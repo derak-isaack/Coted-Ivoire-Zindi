{
 "cells": [
  {
   "cell_type": "code",
   "execution_count": 1,
   "id": "2db67e56",
   "metadata": {},
   "outputs": [],
   "source": [
    "import geopandas as gpd \n",
    "import rasterio  \n",
    "import numpy as np  \n",
    "\n",
    "import ee\n",
    "import geemap\n",
    "from datetime import datetime "
   ]
  },
  {
   "cell_type": "code",
   "execution_count": 10,
   "id": "ee7286c0",
   "metadata": {},
   "outputs": [
    {
     "data": {
      "text/html": [
       "\n",
       "            <style>\n",
       "                .geemap-dark {\n",
       "                    --jp-widgets-color: white;\n",
       "                    --jp-widgets-label-color: white;\n",
       "                    --jp-ui-font-color1: white;\n",
       "                    --jp-layout-color2: #454545;\n",
       "                    background-color: #383838;\n",
       "                }\n",
       "\n",
       "                .geemap-dark .jupyter-button {\n",
       "                    --jp-layout-color3: #383838;\n",
       "                }\n",
       "\n",
       "                .geemap-colab {\n",
       "                    background-color: var(--colab-primary-surface-color, white);\n",
       "                }\n",
       "\n",
       "                .geemap-colab .jupyter-button {\n",
       "                    --jp-layout-color3: var(--colab-primary-surface-color, white);\n",
       "                }\n",
       "            </style>\n",
       "            "
      ],
      "text/plain": [
       "<IPython.core.display.HTML object>"
      ]
     },
     "metadata": {},
     "output_type": "display_data"
    }
   ],
   "source": [
    "# Load the GeoJSON file \n",
    "gdf = gpd.read_file(\"train.geojson\")\n",
    "\n",
    "test_gdf = gpd.read_file(\"test.geojson\")\n",
    "\n",
    "# Load your GeoJSON file\n",
    "# gdf = gpd.read_file(\"train.geojson\")\n",
    "\n",
    "# Save as Shapefile (this creates .shp, .shx, .dbf, .prj)\n",
    "# gdf.to_file(\"train_shapefile\", driver=\"ESRI Shapefile\")\n",
    "\n",
    "test_gdf.to_file(\"test_shapefile\", driver=\"ESRI Shapefile\")\n",
    "\n"
   ]
  },
  {
   "cell_type": "code",
   "execution_count": 3,
   "id": "2f9356d1",
   "metadata": {},
   "outputs": [
    {
     "data": {
      "text/html": [
       "\n",
       "            <style>\n",
       "                .geemap-dark {\n",
       "                    --jp-widgets-color: white;\n",
       "                    --jp-widgets-label-color: white;\n",
       "                    --jp-ui-font-color1: white;\n",
       "                    --jp-layout-color2: #454545;\n",
       "                    background-color: #383838;\n",
       "                }\n",
       "\n",
       "                .geemap-dark .jupyter-button {\n",
       "                    --jp-layout-color3: #383838;\n",
       "                }\n",
       "\n",
       "                .geemap-colab {\n",
       "                    background-color: var(--colab-primary-surface-color, white);\n",
       "                }\n",
       "\n",
       "                .geemap-colab .jupyter-button {\n",
       "                    --jp-layout-color3: var(--colab-primary-surface-color, white);\n",
       "                }\n",
       "            </style>\n",
       "            "
      ],
      "text/plain": [
       "<IPython.core.display.HTML object>"
      ]
     },
     "metadata": {},
     "output_type": "display_data"
    },
    {
     "name": "stdout",
     "output_type": "stream",
     "text": [
      "Bounding Box Coordinates (EPSG:4326):\n",
      "West (min longitude): -7.56471\n",
      "South (min latitude): 4.549254027561672\n",
      "East (max longitude): -2.888562331031698\n",
      "North (max latitude): 7.48906023319121\n"
     ]
    }
   ],
   "source": [
    "minx, miny, maxx, maxy = gdf.total_bounds\n",
    "\n",
    "print(f\"Bounding Box Coordinates (EPSG:{gdf.crs.to_epsg()}):\")\n",
    "print(f\"West (min longitude): {minx}\")\n",
    "print(f\"South (min latitude): {miny}\")\n",
    "print(f\"East (max longitude): {maxx}\")\n",
    "print(f\"North (max latitude): {maxy}\")"
   ]
  },
  {
   "cell_type": "code",
   "execution_count": 4,
   "id": "2d1f7d75",
   "metadata": {},
   "outputs": [
    {
     "data": {
      "text/html": [
       "\n",
       "            <style>\n",
       "                .geemap-dark {\n",
       "                    --jp-widgets-color: white;\n",
       "                    --jp-widgets-label-color: white;\n",
       "                    --jp-ui-font-color1: white;\n",
       "                    --jp-layout-color2: #454545;\n",
       "                    background-color: #383838;\n",
       "                }\n",
       "\n",
       "                .geemap-dark .jupyter-button {\n",
       "                    --jp-layout-color3: #383838;\n",
       "                }\n",
       "\n",
       "                .geemap-colab {\n",
       "                    background-color: var(--colab-primary-surface-color, white);\n",
       "                }\n",
       "\n",
       "                .geemap-colab .jupyter-button {\n",
       "                    --jp-layout-color3: var(--colab-primary-surface-color, white);\n",
       "                }\n",
       "            </style>\n",
       "            "
      ],
      "text/plain": [
       "<IPython.core.display.HTML object>"
      ]
     },
     "metadata": {},
     "output_type": "display_data"
    },
    {
     "name": "stdout",
     "output_type": "stream",
     "text": [
      "Bounding box: ['4.1621205', '10.7401970', '-8.6014675', '-2.4948836']\n",
      "Center lat/lon: 7.9897371 -5.5679458\n"
     ]
    }
   ],
   "source": [
    "import requests\n",
    "\n",
    "country = \"Cote d'Ivoire\"\n",
    "url = f\"https://nominatim.openstreetmap.org/search?q={country}&format=json&limit=1\"\n",
    "headers = {'User-Agent': 'Mozilla/5.0'}\n",
    "\n",
    "response = requests.get(url, headers=headers)\n",
    "data = response.json()\n",
    "\n",
    "boundingbox = data[0][\"boundingbox\"]  \n",
    "lat = data[0][\"lat\"]\n",
    "lon = data[0][\"lon\"]\n",
    "\n",
    "print(\"Bounding box:\", boundingbox)\n",
    "print(\"Center lat/lon:\", lat, lon)\n"
   ]
  },
  {
   "cell_type": "code",
   "execution_count": 2,
   "id": "ff4fe20c",
   "metadata": {},
   "outputs": [
    {
     "data": {
      "text/html": [
       "\n",
       "            <style>\n",
       "                .geemap-dark {\n",
       "                    --jp-widgets-color: white;\n",
       "                    --jp-widgets-label-color: white;\n",
       "                    --jp-ui-font-color1: white;\n",
       "                    --jp-layout-color2: #454545;\n",
       "                    background-color: #383838;\n",
       "                }\n",
       "\n",
       "                .geemap-dark .jupyter-button {\n",
       "                    --jp-layout-color3: #383838;\n",
       "                }\n",
       "\n",
       "                .geemap-colab {\n",
       "                    background-color: var(--colab-primary-surface-color, white);\n",
       "                }\n",
       "\n",
       "                .geemap-colab .jupyter-button {\n",
       "                    --jp-layout-color3: var(--colab-primary-surface-color, white);\n",
       "                }\n",
       "            </style>\n",
       "            "
      ],
      "text/plain": [
       "<IPython.core.display.HTML object>"
      ]
     },
     "metadata": {},
     "output_type": "display_data"
    }
   ],
   "source": [
    "\n",
    "ee.Authenticate()\n",
    "ee.Initialize()\n",
    "\n",
    "bands = ['B3', 'B4', 'B8', 'B11', 'B12']  \n",
    "indices = ['NDVI', 'NDWI', 'EVI']\n",
    "\n",
    "\n",
    "cotedivore_bbox = ee.Geometry.Rectangle([-8.6, 4.16, -2.49, 10.74])\n",
    "start_year = 2024\n",
    "months = range(1,13)\n"
   ]
  },
  {
   "cell_type": "code",
   "execution_count": 4,
   "id": "5d8b44c1",
   "metadata": {},
   "outputs": [
    {
     "data": {
      "text/html": [
       "\n",
       "            <style>\n",
       "                .geemap-dark {\n",
       "                    --jp-widgets-color: white;\n",
       "                    --jp-widgets-label-color: white;\n",
       "                    --jp-ui-font-color1: white;\n",
       "                    --jp-layout-color2: #454545;\n",
       "                    background-color: #383838;\n",
       "                }\n",
       "\n",
       "                .geemap-dark .jupyter-button {\n",
       "                    --jp-layout-color3: #383838;\n",
       "                }\n",
       "\n",
       "                .geemap-colab {\n",
       "                    background-color: var(--colab-primary-surface-color, white);\n",
       "                }\n",
       "\n",
       "                .geemap-colab .jupyter-button {\n",
       "                    --jp-layout-color3: var(--colab-primary-surface-color, white);\n",
       "                }\n",
       "            </style>\n",
       "            "
      ],
      "text/plain": [
       "<IPython.core.display.HTML object>"
      ]
     },
     "metadata": {},
     "output_type": "display_data"
    }
   ],
   "source": [
    "def get_month_range(month):\n",
    "    start = f'{start_year}-{month}-01'\n",
    "    end = ee.Date(start).advance(1, 'month').format('YYYY-MM-dd')\n",
    "    return ee.Date(start), ee.Date(end)"
   ]
  },
  {
   "cell_type": "code",
   "execution_count": 3,
   "id": "6274ee0f",
   "metadata": {},
   "outputs": [
    {
     "data": {
      "text/html": [
       "\n",
       "            <style>\n",
       "                .geemap-dark {\n",
       "                    --jp-widgets-color: white;\n",
       "                    --jp-widgets-label-color: white;\n",
       "                    --jp-ui-font-color1: white;\n",
       "                    --jp-layout-color2: #454545;\n",
       "                    background-color: #383838;\n",
       "                }\n",
       "\n",
       "                .geemap-dark .jupyter-button {\n",
       "                    --jp-layout-color3: #383838;\n",
       "                }\n",
       "\n",
       "                .geemap-colab {\n",
       "                    background-color: var(--colab-primary-surface-color, white);\n",
       "                }\n",
       "\n",
       "                .geemap-colab .jupyter-button {\n",
       "                    --jp-layout-color3: var(--colab-primary-surface-color, white);\n",
       "                }\n",
       "            </style>\n",
       "            "
      ],
      "text/plain": [
       "<IPython.core.display.HTML object>"
      ]
     },
     "metadata": {},
     "output_type": "display_data"
    }
   ],
   "source": [
    "crops = ee.FeatureCollection(\"projects/ee-oderaisaack2/assets/train_shapefile\")\n",
    "crops_test = ee.FeatureCollection(\"projects/ee-oderaisaack2/assets/test_shapefile\")\n",
    "\n",
    "s1 = ee.ImageCollection(\"COPERNICUS/S1_GRD\") \\\n",
    "    .filterDate('2024-01-01', '2024-12-31') \\\n",
    "    .filterBounds(crops_test) \\\n",
    "    .filter(ee.Filter.eq('instrumentMode', 'IW')) \\\n",
    "    .filter(ee.Filter.listContains('transmitterReceiverPolarisation', 'VV')) \\\n",
    "    .filter(ee.Filter.listContains('transmitterReceiverPolarisation', 'VH')) \\\n",
    "    .select(['VV', 'VH'])"
   ]
  },
  {
   "cell_type": "code",
   "execution_count": 4,
   "id": "3ee2bac6",
   "metadata": {},
   "outputs": [
    {
     "data": {
      "text/html": [
       "\n",
       "            <style>\n",
       "                .geemap-dark {\n",
       "                    --jp-widgets-color: white;\n",
       "                    --jp-widgets-label-color: white;\n",
       "                    --jp-ui-font-color1: white;\n",
       "                    --jp-layout-color2: #454545;\n",
       "                    background-color: #383838;\n",
       "                }\n",
       "\n",
       "                .geemap-dark .jupyter-button {\n",
       "                    --jp-layout-color3: #383838;\n",
       "                }\n",
       "\n",
       "                .geemap-colab {\n",
       "                    background-color: var(--colab-primary-surface-color, white);\n",
       "                }\n",
       "\n",
       "                .geemap-colab .jupyter-button {\n",
       "                    --jp-layout-color3: var(--colab-primary-surface-color, white);\n",
       "                }\n",
       "            </style>\n",
       "            "
      ],
      "text/plain": [
       "<IPython.core.display.HTML object>"
      ]
     },
     "metadata": {},
     "output_type": "display_data"
    }
   ],
   "source": [
    "def monthly_composites(year, start_month, end_month):\n",
    "    months = ee.List.sequence(start_month, end_month)\n",
    "    \n",
    "    def per_month(m):\n",
    "        m = ee.Number(m)\n",
    "        start = ee.Date.fromYMD(year, m, 1)\n",
    "        end = start.advance(1, 'month')\n",
    "        \n",
    "        monthly = s1.filterDate(start, end).mean()\n",
    "        \n",
    "        rvi = monthly.expression(\n",
    "            '(4 * VH) / (VV + VH)', {\n",
    "                'VH': monthly.select('VH'),\n",
    "                'VV': monthly.select('VV')\n",
    "            }\n",
    "        ).rename('RVI')\n",
    "        \n",
    "        monthly = monthly.addBands(rvi) \\\n",
    "                         .set('month', m) \\\n",
    "                         .set('system:time_start', start.millis())\n",
    "        return monthly\n",
    "\n",
    "    return ee.ImageCollection(months.map(per_month))"
   ]
  },
  {
   "cell_type": "code",
   "execution_count": 5,
   "id": "4cafa14c",
   "metadata": {},
   "outputs": [
    {
     "data": {
      "text/html": [
       "\n",
       "            <style>\n",
       "                .geemap-dark {\n",
       "                    --jp-widgets-color: white;\n",
       "                    --jp-widgets-label-color: white;\n",
       "                    --jp-ui-font-color1: white;\n",
       "                    --jp-layout-color2: #454545;\n",
       "                    background-color: #383838;\n",
       "                }\n",
       "\n",
       "                .geemap-dark .jupyter-button {\n",
       "                    --jp-layout-color3: #383838;\n",
       "                }\n",
       "\n",
       "                .geemap-colab {\n",
       "                    background-color: var(--colab-primary-surface-color, white);\n",
       "                }\n",
       "\n",
       "                .geemap-colab .jupyter-button {\n",
       "                    --jp-layout-color3: var(--colab-primary-surface-color, white);\n",
       "                }\n",
       "            </style>\n",
       "            "
      ],
      "text/plain": [
       "<IPython.core.display.HTML object>"
      ]
     },
     "metadata": {},
     "output_type": "display_data"
    }
   ],
   "source": [
    "monthly_images = monthly_composites(2024, 1, 12)"
   ]
  },
  {
   "cell_type": "code",
   "execution_count": 6,
   "id": "2741ef6f",
   "metadata": {},
   "outputs": [
    {
     "data": {
      "text/html": [
       "\n",
       "            <style>\n",
       "                .geemap-dark {\n",
       "                    --jp-widgets-color: white;\n",
       "                    --jp-widgets-label-color: white;\n",
       "                    --jp-ui-font-color1: white;\n",
       "                    --jp-layout-color2: #454545;\n",
       "                    background-color: #383838;\n",
       "                }\n",
       "\n",
       "                .geemap-dark .jupyter-button {\n",
       "                    --jp-layout-color3: #383838;\n",
       "                }\n",
       "\n",
       "                .geemap-colab {\n",
       "                    background-color: var(--colab-primary-surface-color, white);\n",
       "                }\n",
       "\n",
       "                .geemap-colab .jupyter-button {\n",
       "                    --jp-layout-color3: var(--colab-primary-surface-color, white);\n",
       "                }\n",
       "            </style>\n",
       "            "
      ],
      "text/plain": [
       "<IPython.core.display.HTML object>"
      ]
     },
     "metadata": {},
     "output_type": "display_data"
    }
   ],
   "source": [
    "def extract_features(img):\n",
    "    month = img.get('month')\n",
    "    return img.reduceRegions(\n",
    "        collection=crops_test,\n",
    "        reducer=ee.Reducer.mean(),\n",
    "        scale=10\n",
    "    ).map(lambda f: f.set('month', month))"
   ]
  },
  {
   "cell_type": "code",
   "execution_count": 7,
   "id": "98a076e8",
   "metadata": {},
   "outputs": [
    {
     "data": {
      "text/html": [
       "\n",
       "            <style>\n",
       "                .geemap-dark {\n",
       "                    --jp-widgets-color: white;\n",
       "                    --jp-widgets-label-color: white;\n",
       "                    --jp-ui-font-color1: white;\n",
       "                    --jp-layout-color2: #454545;\n",
       "                    background-color: #383838;\n",
       "                }\n",
       "\n",
       "                .geemap-dark .jupyter-button {\n",
       "                    --jp-layout-color3: #383838;\n",
       "                }\n",
       "\n",
       "                .geemap-colab {\n",
       "                    background-color: var(--colab-primary-surface-color, white);\n",
       "                }\n",
       "\n",
       "                .geemap-colab .jupyter-button {\n",
       "                    --jp-layout-color3: var(--colab-primary-surface-color, white);\n",
       "                }\n",
       "            </style>\n",
       "            "
      ],
      "text/plain": [
       "<IPython.core.display.HTML object>"
      ]
     },
     "metadata": {},
     "output_type": "display_data"
    }
   ],
   "source": [
    "features = monthly_images.map(extract_features).flatten()"
   ]
  },
  {
   "cell_type": "code",
   "execution_count": 8,
   "id": "eef2e891",
   "metadata": {},
   "outputs": [
    {
     "data": {
      "text/html": [
       "\n",
       "            <style>\n",
       "                .geemap-dark {\n",
       "                    --jp-widgets-color: white;\n",
       "                    --jp-widgets-label-color: white;\n",
       "                    --jp-ui-font-color1: white;\n",
       "                    --jp-layout-color2: #454545;\n",
       "                    background-color: #383838;\n",
       "                }\n",
       "\n",
       "                .geemap-dark .jupyter-button {\n",
       "                    --jp-layout-color3: #383838;\n",
       "                }\n",
       "\n",
       "                .geemap-colab {\n",
       "                    background-color: var(--colab-primary-surface-color, white);\n",
       "                }\n",
       "\n",
       "                .geemap-colab .jupyter-button {\n",
       "                    --jp-layout-color3: var(--colab-primary-surface-color, white);\n",
       "                }\n",
       "            </style>\n",
       "            "
      ],
      "text/plain": [
       "<IPython.core.display.HTML object>"
      ]
     },
     "metadata": {},
     "output_type": "display_data"
    }
   ],
   "source": [
    "# # crops = ee.FeatureCollection(\"projects/ee-oderaisaack2/assets/train_shapefile\")\n",
    "# features = stacked.reduceRegions(\n",
    "#     collection=crops, \n",
    "#     reducer=ee.Reducer.mean(),\n",
    "#     scale=10 \n",
    "# ) \n",
    "\n",
    "# # Export to CSV\n"
   ]
  },
  {
   "cell_type": "code",
   "execution_count": 9,
   "id": "00552e0f",
   "metadata": {},
   "outputs": [
    {
     "data": {
      "text/html": [
       "\n",
       "            <style>\n",
       "                .geemap-dark {\n",
       "                    --jp-widgets-color: white;\n",
       "                    --jp-widgets-label-color: white;\n",
       "                    --jp-ui-font-color1: white;\n",
       "                    --jp-layout-color2: #454545;\n",
       "                    background-color: #383838;\n",
       "                }\n",
       "\n",
       "                .geemap-dark .jupyter-button {\n",
       "                    --jp-layout-color3: #383838;\n",
       "                }\n",
       "\n",
       "                .geemap-colab {\n",
       "                    background-color: var(--colab-primary-surface-color, white);\n",
       "                }\n",
       "\n",
       "                .geemap-colab .jupyter-button {\n",
       "                    --jp-layout-color3: var(--colab-primary-surface-color, white);\n",
       "                }\n",
       "            </style>\n",
       "            "
      ],
      "text/plain": [
       "<IPython.core.display.HTML object>"
      ]
     },
     "metadata": {},
     "output_type": "display_data"
    }
   ],
   "source": [
    "export = ee.batch.Export.table.toDrive(\n",
    "    collection=features,\n",
    "    description='S1_RVI_JJA_monthly',\n",
    "    folder='EarthEngineExports',\n",
    "    fileNamePrefix='Tests1_jan_dec',\n",
    "    fileFormat='CSV'\n",
    ")\n",
    "\n",
    "export.start()"
   ]
  },
  {
   "cell_type": "markdown",
   "id": "30977cc1",
   "metadata": {},
   "source": [
    "`Sentine 1 & 2 Harmonized`"
   ]
  },
  {
   "cell_type": "code",
   "execution_count": null,
   "id": "12496e6c",
   "metadata": {},
   "outputs": [
    {
     "data": {
      "text/html": [
       "\n",
       "            <style>\n",
       "                .geemap-dark {\n",
       "                    --jp-widgets-color: white;\n",
       "                    --jp-widgets-label-color: white;\n",
       "                    --jp-ui-font-color1: white;\n",
       "                    --jp-layout-color2: #454545;\n",
       "                    background-color: #383838;\n",
       "                }\n",
       "\n",
       "                .geemap-dark .jupyter-button {\n",
       "                    --jp-layout-color3: #383838;\n",
       "                }\n",
       "\n",
       "                .geemap-colab {\n",
       "                    background-color: var(--colab-primary-surface-color, white);\n",
       "                }\n",
       "\n",
       "                .geemap-colab .jupyter-button {\n",
       "                    --jp-layout-color3: var(--colab-primary-surface-color, white);\n",
       "                }\n",
       "            </style>\n",
       "            "
      ],
      "text/plain": [
       "<IPython.core.display.HTML object>"
      ]
     },
     "metadata": {},
     "output_type": "display_data"
    }
   ],
   "source": [
    "# def add_indices(img):\n",
    "#     ndvi = img.normalizedDifference(['B8', 'B4']).rename('NDVI')  # NIR, RED\n",
    "#     ndmi = img.normalizedDifference(['B8', 'B11']).rename('NDMI')  # NIR, SWIR1\n",
    "#     savi = img.expression(\n",
    "#         '((NIR - RED) / (NIR + RED + L)) * (1 + L)',\n",
    "#         {\n",
    "#             'NIR': img.select('B8'),\n",
    "#             'RED': img.select('B4'),\n",
    "#             'L': ee.Number(0.5)\n",
    "#         }\n",
    "#     ).rename('SAVI')\n",
    "#     gndvi = img.normalizedDifference(['B8', 'B2']).rename('GNDVI')  # NIR, GREEN\n",
    "#     msavi2 = img.expression(\n",
    "#         '0.5 * (2 * NIR + 1 - sqrt((2 * NIR + 1) ** 2 - 8 * (NIR - RED)))',\n",
    "#         {\n",
    "#             'NIR': img.select('B8'),\n",
    "#             'RED': img.select('B4')\n",
    "#         }\n",
    "#     ).rename('MSAVI2')\n",
    "#     nbr = img.normalizedDifference(['B8', 'B12']).rename('NBR')  # NIR, SWIR2\n",
    "#     return img.addBands([ndvi, ndmi, savi, gndvi, msavi2, nbr])\n",
    "\n"
   ]
  },
  {
   "cell_type": "code",
   "execution_count": 10,
   "id": "c29525e6",
   "metadata": {},
   "outputs": [
    {
     "data": {
      "text/html": [
       "\n",
       "            <style>\n",
       "                .geemap-dark {\n",
       "                    --jp-widgets-color: white;\n",
       "                    --jp-widgets-label-color: white;\n",
       "                    --jp-ui-font-color1: white;\n",
       "                    --jp-layout-color2: #454545;\n",
       "                    background-color: #383838;\n",
       "                }\n",
       "\n",
       "                .geemap-dark .jupyter-button {\n",
       "                    --jp-layout-color3: #383838;\n",
       "                }\n",
       "\n",
       "                .geemap-colab {\n",
       "                    background-color: var(--colab-primary-surface-color, white);\n",
       "                }\n",
       "\n",
       "                .geemap-colab .jupyter-button {\n",
       "                    --jp-layout-color3: var(--colab-primary-surface-color, white);\n",
       "                }\n",
       "            </style>\n",
       "            "
      ],
      "text/plain": [
       "<IPython.core.display.HTML object>"
      ]
     },
     "metadata": {},
     "output_type": "display_data"
    }
   ],
   "source": [
    "crops = ee.FeatureCollection(\"projects/ee-oderaisaack2/assets/train_shapefile\")\n",
    "\n",
    "def mask_clouds_shadows(image):\n",
    "    qa = image.select('QA60')\n",
    "    cloud_mask = qa.bitwiseAnd(1 << 10).eq(0).And(qa.bitwiseAnd(1 << 11).eq(0))\n",
    "    cloud_mask = cloud_mask.focal_max(2)\n",
    "\n",
    "    # Use SWIR and NIR bands for shadows instead of B2 \n",
    "    swir = image.select('B11')\n",
    "    nir = image.select('B8')\n",
    "    shadow_mask = swir.lt(500).And(nir.lt(1000))\n",
    "\n",
    "    final_mask = cloud_mask.And(shadow_mask.Not())\n",
    "    return image.updateMask(final_mask).multiply(0.0001).copyProperties(image, ['system:time_start'])\n"
   ]
  },
  {
   "cell_type": "code",
   "execution_count": 11,
   "id": "80e7ebc6",
   "metadata": {},
   "outputs": [
    {
     "data": {
      "text/html": [
       "\n",
       "            <style>\n",
       "                .geemap-dark {\n",
       "                    --jp-widgets-color: white;\n",
       "                    --jp-widgets-label-color: white;\n",
       "                    --jp-ui-font-color1: white;\n",
       "                    --jp-layout-color2: #454545;\n",
       "                    background-color: #383838;\n",
       "                }\n",
       "\n",
       "                .geemap-dark .jupyter-button {\n",
       "                    --jp-layout-color3: #383838;\n",
       "                }\n",
       "\n",
       "                .geemap-colab {\n",
       "                    background-color: var(--colab-primary-surface-color, white);\n",
       "                }\n",
       "\n",
       "                .geemap-colab .jupyter-button {\n",
       "                    --jp-layout-color3: var(--colab-primary-surface-color, white);\n",
       "                }\n",
       "            </style>\n",
       "            "
      ],
      "text/plain": [
       "<IPython.core.display.HTML object>"
      ]
     },
     "metadata": {},
     "output_type": "display_data"
    }
   ],
   "source": [
    "def add_indices(image):\n",
    "    ndvi = image.normalizedDifference(['B8', 'B4']).rename('NDVI')\n",
    "    evi = image.expression(\n",
    "        '2.5 * ((NIR - RED) / (NIR + 6 * RED + 1))',  # No B2\n",
    "        {'NIR': image.select('B8'), 'RED': image.select('B4')}\n",
    "    ).rename('EVI')\n",
    "    return image.addBands([ndvi, evi])"
   ]
  },
  {
   "cell_type": "code",
   "execution_count": 12,
   "id": "023242c0",
   "metadata": {},
   "outputs": [
    {
     "data": {
      "text/html": [
       "\n",
       "            <style>\n",
       "                .geemap-dark {\n",
       "                    --jp-widgets-color: white;\n",
       "                    --jp-widgets-label-color: white;\n",
       "                    --jp-ui-font-color1: white;\n",
       "                    --jp-layout-color2: #454545;\n",
       "                    background-color: #383838;\n",
       "                }\n",
       "\n",
       "                .geemap-dark .jupyter-button {\n",
       "                    --jp-layout-color3: #383838;\n",
       "                }\n",
       "\n",
       "                .geemap-colab {\n",
       "                    background-color: var(--colab-primary-surface-color, white);\n",
       "                }\n",
       "\n",
       "                .geemap-colab .jupyter-button {\n",
       "                    --jp-layout-color3: var(--colab-primary-surface-color, white);\n",
       "                }\n",
       "            </style>\n",
       "            "
      ],
      "text/plain": [
       "<IPython.core.display.HTML object>"
      ]
     },
     "metadata": {},
     "output_type": "display_data"
    }
   ],
   "source": [
    "def process_month(year, month):\n",
    "    start = ee.Date.fromYMD(year, month, 1)\n",
    "    end = start.advance(1, 'month')\n",
    "\n",
    "    # Adjust cloud threshold dynamically\n",
    "    rainy_months = [4, 5, 6, 7, 8, 9, 10, 11]\n",
    "    cloud_thresh = 60 if month in rainy_months else 30\n",
    "\n",
    "    collection = (\n",
    "        ee.ImageCollection(\"COPERNICUS/S2_SR_HARMONIZED\")\n",
    "        .filterDate(start, end)\n",
    "        .filterBounds(crops_test)\n",
    "        .filter(ee.Filter.lt('CLOUDY_PIXEL_PERCENTAGE', cloud_thresh))\n",
    "        .map(mask_clouds_shadows)\n",
    "        .map(add_indices)\n",
    "    )\n",
    "\n",
    "    # Ensure collection is not empty\n",
    "    size = collection.size()\n",
    "    empty = size.eq(0)\n",
    "\n",
    "    def compute_and_export():\n",
    "        mean_image = collection.mean().select(bands + ['NDVI', 'EVI'])\n",
    "        mean_image = mean_image.set('month', month)\n",
    "\n",
    "        # Reduce over crop polygons\n",
    "        features = mean_image.reduceRegions(\n",
    "            collection=crops_test,\n",
    "            reducer=ee.Reducer.mean(),\n",
    "            scale=10\n",
    "        )\n",
    "\n",
    "        # Add month number to each feature\n",
    "        features = features.map(lambda f: f.set('month', month))\n",
    "\n",
    "        # Export as CSV\n",
    "        export = ee.batch.Export.table.toDrive(\n",
    "            collection=features,\n",
    "            description=f'S2_Features_{year}_{month:02d}',\n",
    "            folder='EarthEngineExports',\n",
    "            fileNamePrefix=f'Test_s2_crop_features_{year}_{month:02d}',\n",
    "            fileFormat='CSV'\n",
    "        )\n",
    "        export.start()\n",
    "\n",
    "    # Use conditional to avoid errors\n",
    "    return ee.Algorithms.If(empty, None, compute_and_export())\n"
   ]
  },
  {
   "cell_type": "code",
   "execution_count": 13,
   "id": "5151b31b",
   "metadata": {},
   "outputs": [
    {
     "data": {
      "text/html": [
       "\n",
       "            <style>\n",
       "                .geemap-dark {\n",
       "                    --jp-widgets-color: white;\n",
       "                    --jp-widgets-label-color: white;\n",
       "                    --jp-ui-font-color1: white;\n",
       "                    --jp-layout-color2: #454545;\n",
       "                    background-color: #383838;\n",
       "                }\n",
       "\n",
       "                .geemap-dark .jupyter-button {\n",
       "                    --jp-layout-color3: #383838;\n",
       "                }\n",
       "\n",
       "                .geemap-colab {\n",
       "                    background-color: var(--colab-primary-surface-color, white);\n",
       "                }\n",
       "\n",
       "                .geemap-colab .jupyter-button {\n",
       "                    --jp-layout-color3: var(--colab-primary-surface-color, white);\n",
       "                }\n",
       "            </style>\n",
       "            "
      ],
      "text/plain": [
       "<IPython.core.display.HTML object>"
      ]
     },
     "metadata": {},
     "output_type": "display_data"
    }
   ],
   "source": [
    "for m in range(1, 13):\n",
    "    process_month(2024, m)"
   ]
  },
  {
   "cell_type": "code",
   "execution_count": 51,
   "id": "fa817f96",
   "metadata": {},
   "outputs": [
    {
     "data": {
      "text/html": [
       "\n",
       "            <style>\n",
       "                .geemap-dark {\n",
       "                    --jp-widgets-color: white;\n",
       "                    --jp-widgets-label-color: white;\n",
       "                    --jp-ui-font-color1: white;\n",
       "                    --jp-layout-color2: #454545;\n",
       "                    background-color: #383838;\n",
       "                }\n",
       "\n",
       "                .geemap-dark .jupyter-button {\n",
       "                    --jp-layout-color3: #383838;\n",
       "                }\n",
       "\n",
       "                .geemap-colab {\n",
       "                    background-color: var(--colab-primary-surface-color, white);\n",
       "                }\n",
       "\n",
       "                .geemap-colab .jupyter-button {\n",
       "                    --jp-layout-color3: var(--colab-primary-surface-color, white);\n",
       "                }\n",
       "            </style>\n",
       "            "
      ],
      "text/plain": [
       "<IPython.core.display.HTML object>"
      ]
     },
     "metadata": {},
     "output_type": "display_data"
    }
   ],
   "source": [
    "def monthly_composites(year):\n",
    "    months = ee.List.sequence(1, 12)\n",
    "\n",
    "    def create_month(m):\n",
    "        m = ee.Number(m)\n",
    "        start = ee.Date.fromYMD(year, m, 1)\n",
    "        end = start.advance(1, 'month')\n",
    "        monthly = (ee.ImageCollection(\"COPERNICUS/S2_SR_HARMONIZED\")\n",
    "                     .filterBounds(crops)\n",
    "                     .filterDate(start, end)\n",
    "                     .filter(ee.Filter.lt('CLOUDY_PIXEL_PERCENTAGE', 30))  # Filtering Happens Here\n",
    "                     .map(mask_clouds_shadows)\n",
    "                     .map(add_indices)\n",
    "                     )\n",
    "        mean_img = monthly.mean().set('month', m)\n",
    "        return mean_img\n",
    "\n",
    "    monthly_collection = ee.ImageCollection(months.map(create_month))\n",
    "    return monthly_collection"
   ]
  },
  {
   "cell_type": "code",
   "execution_count": 49,
   "id": "6d38f546",
   "metadata": {},
   "outputs": [
    {
     "data": {
      "text/html": [
       "\n",
       "            <style>\n",
       "                .geemap-dark {\n",
       "                    --jp-widgets-color: white;\n",
       "                    --jp-widgets-label-color: white;\n",
       "                    --jp-ui-font-color1: white;\n",
       "                    --jp-layout-color2: #454545;\n",
       "                    background-color: #383838;\n",
       "                }\n",
       "\n",
       "                .geemap-dark .jupyter-button {\n",
       "                    --jp-layout-color3: #383838;\n",
       "                }\n",
       "\n",
       "                .geemap-colab {\n",
       "                    background-color: var(--colab-primary-surface-color, white);\n",
       "                }\n",
       "\n",
       "                .geemap-colab .jupyter-button {\n",
       "                    --jp-layout-color3: var(--colab-primary-surface-color, white);\n",
       "                }\n",
       "            </style>\n",
       "            "
      ],
      "text/plain": [
       "<IPython.core.display.HTML object>"
      ]
     },
     "metadata": {},
     "output_type": "display_data"
    }
   ],
   "source": [
    "def print_band_names(image):\n",
    "    band_names = image.bandNames()\n",
    "    print(band_names)\n",
    "    return image"
   ]
  },
  {
   "cell_type": "code",
   "execution_count": 55,
   "id": "8767913d",
   "metadata": {},
   "outputs": [
    {
     "data": {
      "text/html": [
       "\n",
       "            <style>\n",
       "                .geemap-dark {\n",
       "                    --jp-widgets-color: white;\n",
       "                    --jp-widgets-label-color: white;\n",
       "                    --jp-ui-font-color1: white;\n",
       "                    --jp-layout-color2: #454545;\n",
       "                    background-color: #383838;\n",
       "                }\n",
       "\n",
       "                .geemap-dark .jupyter-button {\n",
       "                    --jp-layout-color3: #383838;\n",
       "                }\n",
       "\n",
       "                .geemap-colab {\n",
       "                    background-color: var(--colab-primary-surface-color, white);\n",
       "                }\n",
       "\n",
       "                .geemap-colab .jupyter-button {\n",
       "                    --jp-layout-color3: var(--colab-primary-surface-color, white);\n",
       "                }\n",
       "            </style>\n",
       "            "
      ],
      "text/plain": [
       "<IPython.core.display.HTML object>"
      ]
     },
     "metadata": {},
     "output_type": "display_data"
    }
   ],
   "source": [
    "# Get monthly stacked collection\n",
    "year = 2024\n",
    "monthly_s2 = monthly_composites(year)\n",
    "\n",
    "# Extract stats per month per polygon\n",
    "def extract_stats(img):\n",
    "    month = img.get('month')\n",
    "    reduced = img.reduceRegions(\n",
    "        collection=crops,\n",
    "        reducer=ee.Reducer.mean(),\n",
    "        scale=100\n",
    "    )\n",
    "    return reduced.map(lambda f: f.set('month', month))"
   ]
  },
  {
   "cell_type": "code",
   "execution_count": 56,
   "id": "14f7d202",
   "metadata": {},
   "outputs": [
    {
     "data": {
      "text/html": [
       "\n",
       "            <style>\n",
       "                .geemap-dark {\n",
       "                    --jp-widgets-color: white;\n",
       "                    --jp-widgets-label-color: white;\n",
       "                    --jp-ui-font-color1: white;\n",
       "                    --jp-layout-color2: #454545;\n",
       "                    background-color: #383838;\n",
       "                }\n",
       "\n",
       "                .geemap-dark .jupyter-button {\n",
       "                    --jp-layout-color3: #383838;\n",
       "                }\n",
       "\n",
       "                .geemap-colab {\n",
       "                    background-color: var(--colab-primary-surface-color, white);\n",
       "                }\n",
       "\n",
       "                .geemap-colab .jupyter-button {\n",
       "                    --jp-layout-color3: var(--colab-primary-surface-color, white);\n",
       "                }\n",
       "            </style>\n",
       "            "
      ],
      "text/plain": [
       "<IPython.core.display.HTML object>"
      ]
     },
     "metadata": {},
     "output_type": "display_data"
    }
   ],
   "source": [
    "# features_s1s2 = monthly_s2.map(extract_stats).flatten()\n",
    "features_s1s2 = monthly_s2.select(bands + ['NDVI', 'NDMI', 'SAVI', 'GNDVI', 'MSAVI2',\n",
    "                                          'NBR']).map(extract_stats).flatten()  # Select bands here\n",
    "\n",
    "\n",
    "# Export to Drive\n",
    "export = ee.batch.Export.table.toDrive(\n",
    "    collection=features_s1s2,\n",
    "    description='Sentinel2_Features_AllMonths',\n",
    "    folder='EarthEngineExports',\n",
    "    fileNamePrefix='s2_crop_features_long',\n",
    "    fileFormat='CSV'\n",
    ")\n",
    "export.start()"
   ]
  },
  {
   "cell_type": "code",
   "execution_count": 61,
   "id": "033c6825",
   "metadata": {},
   "outputs": [
    {
     "data": {
      "text/html": [
       "\n",
       "            <style>\n",
       "                .geemap-dark {\n",
       "                    --jp-widgets-color: white;\n",
       "                    --jp-widgets-label-color: white;\n",
       "                    --jp-ui-font-color1: white;\n",
       "                    --jp-layout-color2: #454545;\n",
       "                    background-color: #383838;\n",
       "                }\n",
       "\n",
       "                .geemap-dark .jupyter-button {\n",
       "                    --jp-layout-color3: #383838;\n",
       "                }\n",
       "\n",
       "                .geemap-colab {\n",
       "                    background-color: var(--colab-primary-surface-color, white);\n",
       "                }\n",
       "\n",
       "                .geemap-colab .jupyter-button {\n",
       "                    --jp-layout-color3: var(--colab-primary-surface-color, white);\n",
       "                }\n",
       "            </style>\n",
       "            "
      ],
      "text/plain": [
       "<IPython.core.display.HTML object>"
      ]
     },
     "metadata": {},
     "output_type": "display_data"
    },
    {
     "name": "stdout",
     "output_type": "stream",
     "text": [
      "<class 'geopandas.geodataframe.GeoDataFrame'>\n",
      "RangeIndex: 953 entries, 0 to 952\n",
      "Data columns (total 29 columns):\n",
      " #   Column        Non-Null Count  Dtype   \n",
      "---  ------        --------------  -----   \n",
      " 0   ID            953 non-null    object  \n",
      " 1   year          953 non-null    int32   \n",
      " 2   crop          953 non-null    object  \n",
      " 3   class         953 non-null    int32   \n",
      " 4   geometry      953 non-null    geometry\n",
      " 5   NDVI_2024_01  593 non-null    float32 \n",
      " 6   EVI_2024_01   593 non-null    float32 \n",
      " 7   NDVI_2024_02  595 non-null    float32 \n",
      " 8   EVI_2024_02   595 non-null    float32 \n",
      " 9   NDVI_2024_03  940 non-null    float32 \n",
      " 10  EVI_2024_03   940 non-null    float32 \n",
      " 11  NDVI_2024_04  318 non-null    float32 \n",
      " 12  EVI_2024_04   318 non-null    float32 \n",
      " 13  NDVI_2024_05  98 non-null     float32 \n",
      " 14  EVI_2024_05   98 non-null     float32 \n",
      " 15  NDVI_2024_06  176 non-null    float32 \n",
      " 16  EVI_2024_06   176 non-null    float32 \n",
      " 17  NDVI_2024_07  699 non-null    float32 \n",
      " 18  EVI_2024_07   699 non-null    float32 \n",
      " 19  NDVI_2024_08  17 non-null     float32 \n",
      " 20  EVI_2024_08   17 non-null     float32 \n",
      " 21  NDVI_2024_09  14 non-null     float32 \n",
      " 22  EVI_2024_09   14 non-null     float32 \n",
      " 23  NDVI_2024_10  35 non-null     float32 \n",
      " 24  EVI_2024_10   35 non-null     float32 \n",
      " 25  NDVI_2024_11  362 non-null    float32 \n",
      " 26  EVI_2024_11   362 non-null    float32 \n",
      " 27  NDVI_2024_12  936 non-null    float32 \n",
      " 28  EVI_2024_12   936 non-null    float32 \n",
      "dtypes: float32(24), geometry(1), int32(2), object(2)\n",
      "memory usage: 119.3+ KB\n"
     ]
    }
   ],
   "source": [
    "final_df.info()"
   ]
  },
  {
   "cell_type": "code",
   "execution_count": 8,
   "id": "8236d368",
   "metadata": {},
   "outputs": [
    {
     "data": {
      "text/html": [
       "\n",
       "            <style>\n",
       "                .geemap-dark {\n",
       "                    --jp-widgets-color: white;\n",
       "                    --jp-widgets-label-color: white;\n",
       "                    --jp-ui-font-color1: white;\n",
       "                    --jp-layout-color2: #454545;\n",
       "                    background-color: #383838;\n",
       "                }\n",
       "\n",
       "                .geemap-dark .jupyter-button {\n",
       "                    --jp-layout-color3: #383838;\n",
       "                }\n",
       "\n",
       "                .geemap-colab {\n",
       "                    background-color: var(--colab-primary-surface-color, white);\n",
       "                }\n",
       "\n",
       "                .geemap-colab .jupyter-button {\n",
       "                    --jp-layout-color3: var(--colab-primary-surface-color, white);\n",
       "                }\n",
       "            </style>\n",
       "            "
      ],
      "text/plain": [
       "<IPython.core.display.HTML object>"
      ]
     },
     "metadata": {},
     "output_type": "display_data"
    },
    {
     "name": "stderr",
     "output_type": "stream",
     "text": [
      "C:\\Users\\PC\\AppData\\Local\\Temp\\ipykernel_8556\\1726586447.py:2: UserWarning: Geometry is in a geographic CRS. Results from 'centroid' are likely incorrect. Use 'GeoSeries.to_crs()' to re-project geometries to a projected CRS before this operation.\n",
      "\n",
      "  test_gdf['centroid'] = test_gdf.geometry.centroid\n",
      "C:\\Users\\PC\\AppData\\Local\\Temp\\ipykernel_8556\\1726586447.py:6: UserWarning: Geometry is in a geographic CRS. Results from 'centroid' are likely incorrect. Use 'GeoSeries.to_crs()' to re-project geometries to a projected CRS before this operation.\n",
      "\n",
      "  coords = [(x,y) for x, y in zip(test_gdf.centroid.x, test_gdf.centroid.y)]\n"
     ]
    }
   ],
   "source": [
    "# gdf[\"centroid\"] = gdf.geometry.centroid\n",
    "test_gdf['centroid'] = test_gdf.geometry.centroid\n",
    "\n",
    "# Open raster\n",
    "with rasterio.open(\"cotedivoire_cop30.tif\") as src:\n",
    "    coords = [(x,y) for x, y in zip(test_gdf.centroid.x, test_gdf.centroid.y)]\n",
    "    values = list(src.sample(coords))\n",
    "    test_gdf[\"height_vals\"] = [v[0] if v else None for v in values]"
   ]
  },
  {
   "cell_type": "code",
   "execution_count": 6,
   "id": "4a4013c8",
   "metadata": {},
   "outputs": [
    {
     "data": {
      "text/html": [
       "\n",
       "            <style>\n",
       "                .geemap-dark {\n",
       "                    --jp-widgets-color: white;\n",
       "                    --jp-widgets-label-color: white;\n",
       "                    --jp-ui-font-color1: white;\n",
       "                    --jp-layout-color2: #454545;\n",
       "                    background-color: #383838;\n",
       "                }\n",
       "\n",
       "                .geemap-dark .jupyter-button {\n",
       "                    --jp-layout-color3: #383838;\n",
       "                }\n",
       "\n",
       "                .geemap-colab {\n",
       "                    background-color: var(--colab-primary-surface-color, white);\n",
       "                }\n",
       "\n",
       "                .geemap-colab .jupyter-button {\n",
       "                    --jp-layout-color3: var(--colab-primary-surface-color, white);\n",
       "                }\n",
       "            </style>\n",
       "            "
      ],
      "text/plain": [
       "<IPython.core.display.HTML object>"
      ]
     },
     "metadata": {},
     "output_type": "display_data"
    },
    {
     "name": "stdout",
     "output_type": "stream",
     "text": [
      "4326\n",
      "EPSG:4326\n",
      "4326\n"
     ]
    }
   ],
   "source": [
    "print(gdf.crs.to_epsg())\n",
    "\n",
    "with rasterio.open(\"cotedivoire_cop30.tif\") as src:\n",
    "    print(src.crs)  # Shows full CRS info\n",
    "    print(src.crs.to_epsg())"
   ]
  },
  {
   "cell_type": "code",
   "execution_count": 9,
   "id": "de89387a",
   "metadata": {},
   "outputs": [
    {
     "data": {
      "text/html": [
       "\n",
       "            <style>\n",
       "                .geemap-dark {\n",
       "                    --jp-widgets-color: white;\n",
       "                    --jp-widgets-label-color: white;\n",
       "                    --jp-ui-font-color1: white;\n",
       "                    --jp-layout-color2: #454545;\n",
       "                    background-color: #383838;\n",
       "                }\n",
       "\n",
       "                .geemap-dark .jupyter-button {\n",
       "                    --jp-layout-color3: #383838;\n",
       "                }\n",
       "\n",
       "                .geemap-colab {\n",
       "                    background-color: var(--colab-primary-surface-color, white);\n",
       "                }\n",
       "\n",
       "                .geemap-colab .jupyter-button {\n",
       "                    --jp-layout-color3: var(--colab-primary-surface-color, white);\n",
       "                }\n",
       "            </style>\n",
       "            "
      ],
      "text/plain": [
       "<IPython.core.display.HTML object>"
      ]
     },
     "metadata": {},
     "output_type": "display_data"
    },
    {
     "name": "stdout",
     "output_type": "stream",
     "text": [
      "<class 'geopandas.geodataframe.GeoDataFrame'>\n",
      "RangeIndex: 282 entries, 0 to 281\n",
      "Data columns (total 5 columns):\n",
      " #   Column       Non-Null Count  Dtype   \n",
      "---  ------       --------------  -----   \n",
      " 0   ID           282 non-null    object  \n",
      " 1   year         282 non-null    int32   \n",
      " 2   geometry     282 non-null    geometry\n",
      " 3   centroid     282 non-null    geometry\n",
      " 4   height_vals  282 non-null    float32 \n",
      "dtypes: float32(1), geometry(2), int32(1), object(1)\n",
      "memory usage: 8.9+ KB\n"
     ]
    }
   ],
   "source": [
    "test_gdf.info()"
   ]
  },
  {
   "cell_type": "code",
   "execution_count": 10,
   "id": "1d27ff45",
   "metadata": {},
   "outputs": [
    {
     "data": {
      "text/html": [
       "\n",
       "            <style>\n",
       "                .geemap-dark {\n",
       "                    --jp-widgets-color: white;\n",
       "                    --jp-widgets-label-color: white;\n",
       "                    --jp-ui-font-color1: white;\n",
       "                    --jp-layout-color2: #454545;\n",
       "                    background-color: #383838;\n",
       "                }\n",
       "\n",
       "                .geemap-dark .jupyter-button {\n",
       "                    --jp-layout-color3: #383838;\n",
       "                }\n",
       "\n",
       "                .geemap-colab {\n",
       "                    background-color: var(--colab-primary-surface-color, white);\n",
       "                }\n",
       "\n",
       "                .geemap-colab .jupyter-button {\n",
       "                    --jp-layout-color3: var(--colab-primary-surface-color, white);\n",
       "                }\n",
       "            </style>\n",
       "            "
      ],
      "text/plain": [
       "<IPython.core.display.HTML object>"
      ]
     },
     "metadata": {},
     "output_type": "display_data"
    }
   ],
   "source": [
    "test_gdf.to_csv(\"test_elevation.csv\")"
   ]
  },
  {
   "cell_type": "code",
   "execution_count": null,
   "id": "eeac7857",
   "metadata": {},
   "outputs": [],
   "source": []
  }
 ],
 "metadata": {
  "kernelspec": {
   "display_name": "cotedivore",
   "language": "python",
   "name": "python3"
  },
  "language_info": {
   "codemirror_mode": {
    "name": "ipython",
    "version": 3
   },
   "file_extension": ".py",
   "mimetype": "text/x-python",
   "name": "python",
   "nbconvert_exporter": "python",
   "pygments_lexer": "ipython3",
   "version": "3.12.3"
  }
 },
 "nbformat": 4,
 "nbformat_minor": 5
}
